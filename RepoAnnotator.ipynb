{
 "cells": [
  {
   "cell_type": "markdown",
   "metadata": {},
   "source": [
    "# 初始化"
   ]
  },
  {
   "cell_type": "code",
   "execution_count": 1,
   "metadata": {},
   "outputs": [
    {
     "name": "stdout",
     "output_type": "stream",
     "text": [
      "服务初始化成功\n"
     ]
    },
    {
     "name": "stderr",
     "output_type": "stream",
     "text": [
      "  0%|          | 0/1559 [00:00<?, ?it/s]"
     ]
    }
   ],
   "source": [
    "root_folder = r\"D:\\Joining\\mem0-main\\mem0-main\"\n",
    "new_root_folder = r'mem0'\n",
    "exclude_list=[r'D:\\Joining\\mem0-main\\mem0-main\\.github']\n",
    "from Applications.RepoAnnotator import RepoAnnotator\n",
    "RepoAnnotator.run(root_folder, new_root_folder, exclude_list)\n"
   ]
  }
 ],
 "metadata": {
  "kernelspec": {
   "display_name": "Python 3.10.11 (Jiaoy)",
   "language": "python",
   "name": "myenv"
  },
  "language_info": {
   "codemirror_mode": {
    "name": "ipython",
    "version": 3
   },
   "file_extension": ".py",
   "mimetype": "text/x-python",
   "name": "python",
   "nbconvert_exporter": "python",
   "pygments_lexer": "ipython3",
   "version": "3.10.11"
  }
 },
 "nbformat": 4,
 "nbformat_minor": 2
}
