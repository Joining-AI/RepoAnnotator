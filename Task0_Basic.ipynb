{
 "cells": [
  {
   "cell_type": "markdown",
   "metadata": {},
   "source": [
    "# 初始化"
   ]
  },
  {
   "cell_type": "code",
   "execution_count": null,
   "metadata": {},
   "outputs": [],
   "source": [
    "import os\n",
    "from local_packages import *\n",
    "from dotenv import load_dotenv\n",
    "\n",
    "# 加载环境变量\n",
    "dotenv_path = os.path.join(os.getcwd(), '.env')\n",
    "\n",
    "# 设置项目根目录\n",
    "project_root = os.path.dirname(dotenv_path)\n",
    "\n",
    "# 初始化LLM API\n",
    "agentopener=AgentOpener(service_type='qwen')\n",
    "llm=agentopener.service\n",
    "processor=JSProcessor()"
   ]
  },
  {
   "cell_type": "code",
   "execution_count": null,
   "metadata": {},
   "outputs": [],
   "source": [
    "project_processor = RepoProcessor(processor, llm)\n",
    "root_folder = r\"your_project_root_folder\"\n",
    "new_root_folder = 'your_translate_root_folder'\n",
    "exclude_list=['the_folder_you_want_to_exclude', 'another_folder_you_want_to_exclude']\n",
    "project_processor.process_repo_code(root_folder, new_root_folder, threshold=2048, max_workers=50, exclude_paths=None)"
   ]
  }
 ],
 "metadata": {
  "kernelspec": {
   "display_name": "Python 3.10.11 (Jiaoy)",
   "language": "python",
   "name": "myenv"
  },
  "language_info": {
   "codemirror_mode": {
    "name": "ipython",
    "version": 3
   },
   "file_extension": ".py",
   "mimetype": "text/x-python",
   "name": "python",
   "nbconvert_exporter": "python",
   "pygments_lexer": "ipython3",
   "version": "3.10.11"
  }
 },
 "nbformat": 4,
 "nbformat_minor": 2
}
